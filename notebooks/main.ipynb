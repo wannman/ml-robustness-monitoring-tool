{
 "cells": [
  {
   "cell_type": "code",
   "execution_count": null,
   "metadata": {},
   "outputs": [],
   "source": [
    "import sys\n",
    "from pathlib import Path\n",
    "src_path = Path.cwd().parent / 'src'\n",
    "sys.path.append(str(src_path))\n",
    "\n",
    "import numpy as np\n",
    "import pandas as pd\n"
   ]
  },
  {
   "cell_type": "code",
   "execution_count": null,
   "metadata": {},
   "outputs": [],
   "source": [
    "from data_loader import load_data\n",
    "\n",
    "# Set up data paths\n",
    "data_path = Path.cwd().parent / \"data\" / \"ag_news\"\n",
    "train_path = data_path / \"train.csv\"\n",
    "test_path = data_path / \"test.csv\"\n",
    "\n",
    "# Load training data\n",
    "df_train = load_data(train_path)\n",
    "X_title_train = df_train[\"Title\"].values\n",
    "X_desc_train = df_train[\"Description\"].values\n",
    "y_train = df_train[\"Class Index\"].values\n",
    "\n",
    "# Load test data\n",
    "df_test = load_data(test_path)\n",
    "X_title_test = df_test[\"Title\"].values\n",
    "X_desc_test = df_test[\"Description\"].values\n",
    "y_test = df_test[\"Class Index\"].values\n",
    "\n",
    "# Show training data\n",
    "df_train.head()\n",
    "\n",
    "# Show test data\n",
    "df_test.head()"
   ]
  },
  {
   "cell_type": "code",
   "execution_count": null,
   "metadata": {},
   "outputs": [],
   "source": [
    "from vectorizer import vectorize_data_fit\n",
    "from sklearn.feature_extraction.text import TfidfVectorizer\n",
    "\n",
    "# Vectorize data\n",
    "title_vectorizer = TfidfVectorizer()\n",
    "desc_vectorizer = TfidfVectorizer()\n",
    "\n",
    "X_train_combined_vect = vectorize_data_fit(title_vectorizer, desc_vectorizer, X_title_train, X_desc_train)"
   ]
  },
  {
   "cell_type": "code",
   "execution_count": null,
   "metadata": {},
   "outputs": [],
   "source": [
    "from model_trainer import train_model\n",
    "from sklearn.linear_model import LogisticRegression\n",
    "from sklearn.naive_bayes import MultinomialNB\n",
    "from sklearn.ensemble import RandomForestClassifier\n",
    "\n",
    "# Train Logistic Regression Model\n",
    "lg_model = LogisticRegression()\n",
    "lg_trained_model = train_model(lg_model, X_train_combined_vect, y_train)\n",
    "\n",
    "# Train Naive Bayes Model\n",
    "nb_model = MultinomialNB()\n",
    "#nb_trained_model = train_model(nb_model, X_train_combined_vect, y_train)\n",
    "\n",
    "# Train Random Forest Model\n",
    "rf_model = RandomForestClassifier()\n",
    "#rf_trained_model = train_model(rf_model, X_train_combined_vect, y_train)"
   ]
  },
  {
   "cell_type": "code",
   "execution_count": null,
   "metadata": {},
   "outputs": [],
   "source": [
    "#from perturbation import apply_perturbation\n",
    "\n",
    "# Testing of perturbation module\n",
    "#sample_text = X_test[1]\n",
    "\n",
    "#perturbed_data = apply_perturbation([sample_text], 1.0)\n",
    "#print(sample_text)\n",
    "#print(perturbed_data[0])\n"
   ]
  },
  {
   "cell_type": "code",
   "execution_count": null,
   "metadata": {},
   "outputs": [],
   "source": [
    "from evaluator import evaluate_robustness\n",
    "\n",
    "X_title_sample = X_title_test[:5]\n",
    "X_desc_sample = X_desc_test[:5]\n",
    "y_sample = y_test[:5]\n",
    "\n",
    "X_sample = [X_title_sample, X_desc_sample]\n",
    "perturbation_levels = np.linspace(0, 0.6, 4)\n",
    "metrics = [\"base_accuracy\", \"robustness_score\", \"effective_robustness\"]\n",
    "vectorizers = [title_vectorizer, desc_vectorizer]\n",
    "\n",
    "results, metrics_summary = evaluate_robustness(\n",
    "    lg_trained_model,\n",
    "    vectorizers,\n",
    "    X_sample, #X_test,\n",
    "    y_sample, #y_test,\n",
    "    perturbation_levels,\n",
    "    metrics\n",
    ")\n",
    "\n",
    "print(\"*** Metrics Summary ***\")\n",
    "for metric, value in metrics_summary.items():\n",
    "    print(f\"{metric}: {value: .4f}\")\n",
    "\n",
    "results_df = pd.DataFrame(results)\n",
    "print(\"*** Results Per Perturbation Level\")\n",
    "display(results_df)"
   ]
  }
 ],
 "metadata": {
  "kernelspec": {
   "display_name": "Python 3",
   "language": "python",
   "name": "python3"
  },
  "language_info": {
   "codemirror_mode": {
    "name": "ipython",
    "version": 3
   },
   "file_extension": ".py",
   "mimetype": "text/x-python",
   "name": "python",
   "nbconvert_exporter": "python",
   "pygments_lexer": "ipython3",
   "version": "3.10.16"
  }
 },
 "nbformat": 4,
 "nbformat_minor": 2
}
