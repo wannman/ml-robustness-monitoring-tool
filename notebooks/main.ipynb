{
 "cells": [
  {
   "cell_type": "code",
   "execution_count": 1,
   "metadata": {},
   "outputs": [],
   "source": [
    "import sys\n",
    "from pathlib import Path\n",
    "src_path = Path.cwd().parent / 'src'\n",
    "sys.path.append(str(src_path))\n",
    "\n",
    "import numpy as np\n",
    "import pandas as pd\n"
   ]
  },
  {
   "cell_type": "code",
   "execution_count": 2,
   "metadata": {},
   "outputs": [],
   "source": [
    "from data_loader import load_data\n",
    "\n",
    "# Set up data paths\n",
    "data_path = Path.cwd().parent / \"data\" / \"ag_news\"\n",
    "train_path = data_path / \"train.csv\"\n",
    "test_path = data_path / \"test.csv\"\n",
    "\n",
    "# Load training data\n",
    "df_train = load_data(train_path)\n",
    "#X_title_train = df_train[\"Title\"].values\n",
    "#X_desc_train = df_train[\"Description\"].values\n",
    "X_train = (df_train[\"Title\"] + \" \" + df_train[\"Description\"]).values\n",
    "y_train = df_train[\"Class Index\"].values\n",
    "\n",
    "# Load test data\n",
    "df_test = load_data(test_path)\n",
    "#X_title_test = df_test[\"Title\"].values\n",
    "#X_desc_test = df_test[\"Description\"].values\n",
    "X_test = (df_test[\"Title\"] + \" \" + df_test[\"Description\"]).values\n",
    "y_test = df_test[\"Class Index\"].values\n",
    "\n",
    "# Show training data\n",
    "# df_train.head()\n",
    "\n",
    "# Show test data\n",
    "# df_test.head()\n",
    "\n",
    "# Train only 1000\n",
    "#X_title_train = X_title_train[:1000]\n",
    "#X_desc_train = X_desc_train[:1000]\n",
    "#y_train = y_train[:1000]\n",
    "\n"
   ]
  },
  {
   "cell_type": "code",
   "execution_count": 3,
   "metadata": {},
   "outputs": [
    {
     "ename": "TypeError",
     "evalue": "vectorize_data_fit() missing 2 required positional arguments: 'X_title_train' and 'X_desc_train'",
     "output_type": "error",
     "traceback": [
      "\u001b[1;31m---------------------------------------------------------------------------\u001b[0m",
      "\u001b[1;31mTypeError\u001b[0m                                 Traceback (most recent call last)",
      "Cell \u001b[1;32mIn[3], line 10\u001b[0m\n\u001b[0;32m      7\u001b[0m vectorizer \u001b[38;5;241m=\u001b[39m TfidfVectorizer()\n\u001b[0;32m      9\u001b[0m \u001b[38;5;66;03m#X_train_combined_vect = vectorize_data_fit(title_vectorizer, desc_vectorizer, X_title_train, X_desc_train)\u001b[39;00m\n\u001b[1;32m---> 10\u001b[0m X_train_vect \u001b[38;5;241m=\u001b[39m \u001b[43mvectorize_data_fit\u001b[49m\u001b[43m(\u001b[49m\u001b[43mvectorizer\u001b[49m\u001b[43m,\u001b[49m\u001b[43m \u001b[49m\u001b[43mX_train\u001b[49m\u001b[43m)\u001b[49m\n",
      "\u001b[1;31mTypeError\u001b[0m: vectorize_data_fit() missing 2 required positional arguments: 'X_title_train' and 'X_desc_train'"
     ]
    }
   ],
   "source": [
    "from vectorizer import vectorize_data_fit\n",
    "from sklearn.feature_extraction.text import TfidfVectorizer\n",
    "\n",
    "# Vectorize data\n",
    "#title_vectorizer = TfidfVectorizer()\n",
    "#desc_vectorizer = TfidfVectorizer()\n",
    "vectorizer = TfidfVectorizer()\n",
    "\n",
    "#X_train_combined_vect = vectorize_data_fit(title_vectorizer, desc_vectorizer, X_title_train, X_desc_train)\n",
    "X_train_vect = vectorize_data_fit(vectorizer, X_train)"
   ]
  },
  {
   "cell_type": "code",
   "execution_count": null,
   "metadata": {},
   "outputs": [],
   "source": [
    "from model_trainer import train_model\n",
    "from sklearn.linear_model import LogisticRegression\n",
    "from sklearn.naive_bayes import MultinomialNB\n",
    "from sklearn.ensemble import RandomForestClassifier\n",
    "\n",
    "# Train Logistic Regression Model\n",
    "lg_model = LogisticRegression()\n",
    "#lg_trained_model = train_model(lg_model, X_train_vect, y_train)\n",
    "\n",
    "# Train Naive Bayes Model\n",
    "nb_model = MultinomialNB()\n",
    "#nb_trained_model = train_model(nb_model, X_train_vect, y_train)\n",
    "\n",
    "# Train Random Forest Model\n",
    "rf_model = RandomForestClassifier()\n",
    "rf_trained_model = train_model(rf_model, X_train_vect, y_train)"
   ]
  },
  {
   "cell_type": "code",
   "execution_count": null,
   "metadata": {},
   "outputs": [],
   "source": [
    "from perturbation import apply_perturbation\n",
    "\n",
    "#Testing of perturbation module\n",
    "\n",
    "#title_data = X_title_test[:5]\n",
    "#desc_data = X_desc_test[:5]\n",
    "X_data = X_test[:5]\n",
    "level = 0.6\n",
    "\n",
    "perturbed_data = apply_perturbation(\n",
    "    X_data,\n",
    "    level,\n",
    "    save_path=f\"perturbed_data/perturbed_data_{level:.2f}.pkl\"\n",
    ")\n",
    "\n"
   ]
  },
  {
   "cell_type": "code",
   "execution_count": null,
   "metadata": {},
   "outputs": [],
   "source": [
    "from evaluator import evaluate_robustness\n",
    "\n",
    "#X_title_sample = X_title_test[:10]\n",
    "#X_desc_sample = X_desc_test[:10]\n",
    "X_sample = X_test[:10]\n",
    "y_sample = y_test[:10]\n",
    "\n",
    "#X_sample = [X_title_sample, X_desc_sample]\n",
    "perturbation_levels = np.linspace(0, 1, 4)\n",
    "#perturbation_levels = [0.6]\n",
    "metrics = [\"base_accuracy\", \"robustness_score\", \"effective_robustness\"]\n",
    "#vectorizers = [title_vectorizer, desc_vectorizer]\n",
    "\n",
    "results, metrics_summary = evaluate_robustness(\n",
    "    rf_trained_model,\n",
    "    vectorizer,\n",
    "    X_sample, #X_test,\n",
    "    y_sample, #y_test,\n",
    "    perturbation_levels,\n",
    "    metrics\n",
    ")\n",
    "\n",
    "print(\"*** Metrics Summary ***\")\n",
    "for metric, value in metrics_summary.items():\n",
    "    print(f\"{metric}: {value: .4f}\")\n",
    "\n",
    "results_df = pd.DataFrame(results)\n",
    "print(\"*** Results Per Perturbation Level\")\n",
    "display(results_df)"
   ]
  }
 ],
 "metadata": {
  "kernelspec": {
   "display_name": "Python 3",
   "language": "python",
   "name": "python3"
  },
  "language_info": {
   "codemirror_mode": {
    "name": "ipython",
    "version": 3
   },
   "file_extension": ".py",
   "mimetype": "text/x-python",
   "name": "python",
   "nbconvert_exporter": "python",
   "pygments_lexer": "ipython3",
   "version": "3.10.1"
  }
 },
 "nbformat": 4,
 "nbformat_minor": 2
}
