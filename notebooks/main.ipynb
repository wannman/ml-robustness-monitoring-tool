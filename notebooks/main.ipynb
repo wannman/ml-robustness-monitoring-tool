{
 "cells": [
  {
   "cell_type": "code",
   "execution_count": 1,
   "metadata": {},
   "outputs": [],
   "source": [
    "import sys\n",
    "from pathlib import Path\n",
    "src_path = Path.cwd().parent / 'src'\n",
    "sys.path.append(str(src_path))\n",
    "\n",
    "import numpy as np\n",
    "import pandas as pd\n"
   ]
  },
  {
   "cell_type": "code",
   "execution_count": 2,
   "metadata": {},
   "outputs": [],
   "source": [
    "from data_loader import load_data\n",
    "\n",
    "# Set up data paths\n",
    "data_path = Path.cwd().parent / \"data\" / \"ag_news\"\n",
    "train_path = data_path / \"train.csv\"\n",
    "test_path = data_path / \"test.csv\"\n",
    "\n",
    "# Load training data\n",
    "df_train = load_data(train_path)\n",
    "X_train = (df_train[\"Title\"] + \" \" + df_train[\"Description\"]).values\n",
    "y_train = df_train[\"Class Index\"].values\n",
    "\n",
    "# Load test data\n",
    "df_test = load_data(test_path)\n",
    "X_test = (df_test[\"Title\"] + \" \" + df_test[\"Description\"]).values\n",
    "y_test = df_test[\"Class Index\"].values\n",
    "\n",
    "# Show training data\n",
    "# df_train.head()\n",
    "\n",
    "# Show test data\n",
    "# df_test.head()\n"
   ]
  },
  {
   "cell_type": "code",
   "execution_count": 3,
   "metadata": {},
   "outputs": [],
   "source": [
    "from vectorizer import vectorize_data_fit\n",
    "from sklearn.feature_extraction.text import TfidfVectorizer\n",
    "\n",
    "# Vectorize data\n",
    "vectorizer = TfidfVectorizer()\n",
    "X_train_vect = vectorize_data_fit(vectorizer, X_train)"
   ]
  },
  {
   "cell_type": "code",
   "execution_count": 4,
   "metadata": {},
   "outputs": [],
   "source": [
    "from model_trainer import train_model\n",
    "from sklearn.linear_model import LogisticRegression\n",
    "from sklearn.naive_bayes import MultinomialNB\n",
    "from sklearn.ensemble import RandomForestClassifier\n",
    "\n",
    "# Train Logistic Regression Model\n",
    "lg_model = LogisticRegression()\n",
    "lg_trained_model = train_model(lg_model, X_train_vect, y_train)\n",
    "\n",
    "# Train Naive Bayes Model\n",
    "nb_model = MultinomialNB()\n",
    "#nb_trained_model = train_model(nb_model, X_train_vect, y_train)\n",
    "\n",
    "# Train Random Forest Model\n",
    "rf_model = RandomForestClassifier()\n",
    "#rf_trained_model = train_model(rf_model, X_train_vect, y_train)"
   ]
  },
  {
   "cell_type": "code",
   "execution_count": 5,
   "metadata": {},
   "outputs": [],
   "source": [
    "# from perturbation import apply_perturbation\n",
    "\n",
    "# #Testing of perturbation module\n",
    "\n",
    "# X_data = X_test[:5]\n",
    "# level = 0.6\n",
    "\n",
    "# perturbed_data = apply_perturbation(\n",
    "#     X_data,\n",
    "#     level,\n",
    "#     save_path=f\"perturbed_data/charswap/perturbed_data_{level:.2f}.pkl\"\n",
    "# )\n",
    "\n"
   ]
  },
  {
   "cell_type": "code",
   "execution_count": 6,
   "metadata": {},
   "outputs": [
    {
     "name": "stderr",
     "output_type": "stream",
     "text": [
      "c:\\Users\\t440p\\miniconda3\\envs\\thesis-py310\\lib\\site-packages\\tqdm\\auto.py:21: TqdmWarning: IProgress not found. Please update jupyter and ipywidgets. See https://ipywidgets.readthedocs.io/en/stable/user_install.html\n",
      "  from .autonotebook import tqdm as notebook_tqdm\n"
     ]
    },
    {
     "name": "stdout",
     "output_type": "stream",
     "text": [
      "\n",
      "Perturbation level: 0.0\n",
      "ORIGINAL: Fears for T N pension after talks Unions representing workers at Turner   Newall say they are 'disappointed' after talks with stricken parent firm Federal Mogul.\n",
      "PERTURBED: Fears for T N pension after talks Unions representing workers at Turner   Newall say they are 'disappointed' after talks with stricken parent firm Federal Mogul.\n",
      "ORIGINAL: The Race is On: Second Private Team Sets Launch Date for Human Spaceflight (SPACE.com) SPACE.com - TORONTO, Canada -- A second\\team of rocketeers competing for the  #36;10 million Ansari X Prize, a contest for\\privately funded suborbital space flight, has officially announced the first\\launch date for its manned rocket.\n",
      "PERTURBED: The Race is On: Second Private Team Sets Launch Date for Human Spaceflight (SPACE.com) SPACE.com - TORONTO, Canada -- A second\\team of rocketeers competing for the  #36;10 million Ansari X Prize, a contest for\\privately funded suborbital space flight, has officially announced the first\\launch date for its manned rocket.\n",
      "ORIGINAL: Ky. Company Wins Grant to Study Peptides (AP) AP - A company founded by a chemistry researcher at the University of Louisville won a grant to develop a method of producing better peptides, which are short chains of amino acids, the building blocks of proteins.\n",
      "PERTURBED: Ky. Company Wins Grant to Study Peptides (AP) AP - A company founded by a chemistry researcher at the University of Louisville won a grant to develop a method of producing better peptides, which are short chains of amino acids, the building blocks of proteins.\n",
      "ORIGINAL: Prediction Unit Helps Forecast Wildfires (AP) AP - It's barely dawn when Mike Fitzpatrick starts his shift with a blur of colorful maps, figures and endless charts, but already he knows what the day will bring. Lightning will strike in places he expects. Winds will pick up, moist places will dry and flames will roar.\n",
      "PERTURBED: Prediction Unit Helps Forecast Wildfires (AP) AP - It's barely dawn when Mike Fitzpatrick starts his shift with a blur of colorful maps, figures and endless charts, but already he knows what the day will bring. Lightning will strike in places he expects. Winds will pick up, moist places will dry and flames will roar.\n",
      "ORIGINAL: Calif. Aims to Limit Farm-Related Smog (AP) AP - Southern California's smog-fighting agency went after emissions of the bovine variety Friday, adopting the nation's first rules to reduce air pollution from dairy cow manure.\n",
      "PERTURBED: Calif. Aims to Limit Farm-Related Smog (AP) AP - Southern California's smog-fighting agency went after emissions of the bovine variety Friday, adopting the nation's first rules to reduce air pollution from dairy cow manure.\n",
      "ORIGINAL: Open Letter Against British Copyright Indoctrination in Schools The British Department for Education and Skills (DfES) recently launched a \"Music Manifesto\" campaign, with the ostensible intention of educating the next generation of British musicians. Unfortunately, they also teamed up with the music industry (EMI, and various artists) to make this popular. EMI has apparently negotiated their end well, so that children in our schools will now be indoctrinated about the illegality of downloading music.The ignorance and audacity of this got to me a little, so I wrote an open letter to the DfES about it. Unfortunately, it's pedantic, as I suppose you have to be when writing to goverment representatives. But I hope you find it useful, and perhaps feel inspired to do something similar, if or when the same thing has happened in your area.\n",
      "PERTURBED: Open Letter Against British Copyright Indoctrination in Schools The British Department for Education and Skills (DfES) recently launched a \"Music Manifesto\" campaign, with the ostensible intention of educating the next generation of British musicians. Unfortunately, they also teamed up with the music industry (EMI, and various artists) to make this popular. EMI has apparently negotiated their end well, so that children in our schools will now be indoctrinated about the illegality of downloading music.The ignorance and audacity of this got to me a little, so I wrote an open letter to the DfES about it. Unfortunately, it's pedantic, as I suppose you have to be when writing to goverment representatives. But I hope you find it useful, and perhaps feel inspired to do something similar, if or when the same thing has happened in your area.\n",
      "ORIGINAL: Loosing the War on Terrorism \\\\\"Sven Jaschan, self-confessed author of the Netsky and Sasser viruses, is\\responsible for 70 percent of virus infections in 2004, according to a six-month\\virus roundup published Wednesday by antivirus company Sophos.\"\\\\\"The 18-year-old Jaschan was taken into custody in Germany in May by police who\\said he had admitted programming both the Netsky and Sasser worms, something\\experts at Microsoft confirmed. (A Microsoft antivirus reward program led to the\\teenager's arrest.) During the five months preceding Jaschan's capture, there\\were at least 25 variants of Netsky and one of the port-scanning network worm\\Sasser.\"\\\\\"Graham Cluley, senior technology consultant at Sophos, said it was staggeri ...\\\\\n",
      "PERTURBED: Loosing the War on Terrorism \\\\\"Sven Jaschan, self-confessed author of the Netsky and Sasser viruses, is\\responsible for 70 percent of virus infections in 2004, according to a six-month\\virus roundup published Wednesday by antivirus company Sophos.\"\\\\\"The 18-year-old Jaschan was taken into custody in Germany in May by police who\\said he had admitted programming both the Netsky and Sasser worms, something\\experts at Microsoft confirmed. (A Microsoft antivirus reward program led to the\\teenager's arrest.) During the five months preceding Jaschan's capture, there\\were at least 25 variants of Netsky and one of the port-scanning network worm\\Sasser.\"\\\\\"Graham Cluley, senior technology consultant at Sophos, said it was staggeri ...\\\\\n",
      "ORIGINAL: FOAFKey: FOAF, PGP, Key Distribution, and Bloom Filters \\\\FOAF/LOAF  and bloom filters have a lot of interesting properties for social\\network and whitelist distribution.\\\\I think we can go one level higher though and include GPG/OpenPGP key\\fingerpring distribution in the FOAF file for simple web-of-trust based key\\distribution.\\\\What if we used FOAF and included the PGP key fingerprint(s) for identities?\\This could mean a lot.  You include the PGP key fingerprints within the FOAF\\file of your direct friends and then include a bloom filter of the PGP key\\fingerprints of your entire whitelist (the source FOAF file would of course need\\to be encrypted ).\\\\Your whitelist would be populated from the social network as your client\\discovered new identit ...\\\\\n",
      "PERTURBED: FOAFKey: FOAF, PGP, Key Distribution, and Bloom Filters \\\\FOAF/LOAF  and bloom filters have a lot of interesting properties for social\\network and whitelist distribution.\\\\I think we can go one level higher though and include GPG/OpenPGP key\\fingerpring distribution in the FOAF file for simple web-of-trust based key\\distribution.\\\\What if we used FOAF and included the PGP key fingerprint(s) for identities?\\This could mean a lot.  You include the PGP key fingerprints within the FOAF\\file of your direct friends and then include a bloom filter of the PGP key\\fingerprints of your entire whitelist (the source FOAF file would of course need\\to be encrypted ).\\\\Your whitelist would be populated from the social network as your client\\discovered new identit ...\\\\\n",
      "ORIGINAL: E-mail scam targets police chief Wiltshire Police warns about \"phishing\" after its fraud squad chief was targeted.\n",
      "PERTURBED: E-mail scam targets police chief Wiltshire Police warns about \"phishing\" after its fraud squad chief was targeted.\n",
      "ORIGINAL: Card fraud unit nets 36,000 cards In its first two years, the UK's dedicated card fraud unit, has recovered 36,000 stolen cards and 171 arrests - and estimates it saved 65m.\n",
      "PERTURBED: Card fraud unit nets 36,000 cards In its first two years, the UK's dedicated card fraud unit, has recovered 36,000 stolen cards and 171 arrests - and estimates it saved 65m.\n",
      "\n",
      "Perturbation level: 0.3\n",
      "ORIGINAL: Fears for T N pension after talks Unions representing workers at Turner   Newall say they are 'disappointed' after talks with stricken parent firm Federal Mogul.\n",
      "PERTURBED: FDars for T N Fpension after taKks Uinons reXresenting wrokers at Turnre   Newajll sya they are 'disappionted' after atlks with srticken parenD fim Federak Mgul.\n",
      "ORIGINAL: The Race is On: Second Private Team Sets Launch Date for Human Spaceflight (SPACE.com) SPACE.com - TORONTO, Canada -- A second\\team of rocketeers competing for the  #36;10 million Ansari X Prize, a contest for\\privately funded suborbital space flight, has officially announced the first\\launch date for its manned rocket.\n",
      "PERTURBED: xThe rRace is Un: Segond PrivaUe aeam eSts qLaunch Dtae for Humna Spaecflight (SPACpE.cmo) SACE.Ncom - TORONTIO, Candaa -- A escond\\teaq of rocketeekrs comopeting for the  #3U6;1X mihlion AnsaAri X Pirze, a contSest for\\privatey fnded suborbtial spce fliht, has officiclly announcesd the fist\\launh dzate for its manne rcocket.\n",
      "ORIGINAL: Ky. Company Wins Grant to Study Peptides (AP) AP - A company founded by a chemistry researcher at the University of Louisville won a grant to develop a method of producing better peptides, which are short chains of amino acids, the building blocks of proteins.\n",
      "PERTURBED: Ky. Company Wins Grant to Study Peptides (AP) AP - A company founded by a chemistry researcher at the University of Louisville won a grant to develop a method of producing better peptides, which are short chains of amino acids, the building blocks of proteins.\n",
      "ORIGINAL: Prediction Unit Helps Forecast Wildfires (AP) AP - It's barely dawn when Mike Fitzpatrick starts his shift with a blur of colorful maps, figures and endless charts, but already he knows what the day will bring. Lightning will strike in places he expects. Winds will pick up, moist places will dry and flames will roar.\n",
      "PERTURBED: Prediction Unit Helps Forecast Wildfires (AP) AP - It's barely dawn when Mike Fitzpatrick starts his shift with a blur of colorful maps, figures and endless charts, but already he knows what the day will bring. Lightning will strike in places he expects. Winds will pick up, moist places will dry and flames will roar.\n",
      "ORIGINAL: Calif. Aims to Limit Farm-Related Smog (AP) AP - Southern California's smog-fighting agency went after emissions of the bovine variety Friday, adopting the nation's first rules to reduce air pollution from dairy cow manure.\n",
      "PERTURBED: Calof. Aism to Lqmit Fam-Related Smgo (PA) pP - Southere California'N smog-ifghting agnecy mwent after emissios of the bovne varity rFiday, Eadopting the natiox's Xirst rlues to redcue ai pTllution from daiDry cw manrue.\n",
      "ORIGINAL: Open Letter Against British Copyright Indoctrination in Schools The British Department for Education and Skills (DfES) recently launched a \"Music Manifesto\" campaign, with the ostensible intention of educating the next generation of British musicians. Unfortunately, they also teamed up with the music industry (EMI, and various artists) to make this popular. EMI has apparently negotiated their end well, so that children in our schools will now be indoctrinated about the illegality of downloading music.The ignorance and audacity of this got to me a little, so I wrote an open letter to the DfES about it. Unfortunately, it's pedantic, as I suppose you have to be when writing to goverment representatives. But I hope you find it useful, and perhaps feel inspired to do something similar, if or when the same thing has happened in your area.\n",
      "PERTURBED: Open Letter Against British Copyright Indoctrination in Schools The British Department for Education and Skills (DfES) recently launched a \"Music Manifesto\" campaign, with the ostensible intention of educating the next generation of British musicians. Unfortunately, they also teamed up with the music industry (EMI, and various artists) to make this popular. EMI has apparently negotiated their end well, so that children in our schools will now be indoctrinated about the illegality of downloading music.The ignorance and audacity of this got to me a little, so I wrote an open letter to the DfES about it. Unfortunately, it's pedantic, as I suppose you have to be when writing to goverment representatives. But I hope you find it useful, and perhaps feel inspired to do something similar, if or when the same thing has happened in your area.\n",
      "ORIGINAL: Loosing the War on Terrorism \\\\\"Sven Jaschan, self-confessed author of the Netsky and Sasser viruses, is\\responsible for 70 percent of virus infections in 2004, according to a six-month\\virus roundup published Wednesday by antivirus company Sophos.\"\\\\\"The 18-year-old Jaschan was taken into custody in Germany in May by police who\\said he had admitted programming both the Netsky and Sasser worms, something\\experts at Microsoft confirmed. (A Microsoft antivirus reward program led to the\\teenager's arrest.) During the five months preceding Jaschan's capture, there\\were at least 25 variants of Netsky and one of the port-scanning network worm\\Sasser.\"\\\\\"Graham Cluley, senior technology consultant at Sophos, said it was staggeri ...\\\\\n",
      "PERTURBED: Loosing the War on Terrorism \\\\\"Sven Jaschan, self-confessed author of the Netsky and Sasser viruses, is\\responsible for 70 percent of virus infections in 2004, according to a six-month\\virus roundup published Wednesday by antivirus company Sophos.\"\\\\\"The 18-year-old Jaschan was taken into custody in Germany in May by police who\\said he had admitted programming both the Netsky and Sasser worms, something\\experts at Microsoft confirmed. (A Microsoft antivirus reward program led to the\\teenager's arrest.) During the five months preceding Jaschan's capture, there\\were at least 25 variants of Netsky and one of the port-scanning network worm\\Sasser.\"\\\\\"Graham Cluley, senior technology consultant at Sophos, said it was staggeri ...\\\\\n",
      "ORIGINAL: FOAFKey: FOAF, PGP, Key Distribution, and Bloom Filters \\\\FOAF/LOAF  and bloom filters have a lot of interesting properties for social\\network and whitelist distribution.\\\\I think we can go one level higher though and include GPG/OpenPGP key\\fingerpring distribution in the FOAF file for simple web-of-trust based key\\distribution.\\\\What if we used FOAF and included the PGP key fingerprint(s) for identities?\\This could mean a lot.  You include the PGP key fingerprints within the FOAF\\file of your direct friends and then include a bloom filter of the PGP key\\fingerprints of your entire whitelist (the source FOAF file would of course need\\to be encrypted ).\\\\Your whitelist would be populated from the social network as your client\\discovered new identit ...\\\\\n",
      "PERTURBED: FOAFKey: FOAF, PGP, Key Distribution, and Bloom Filters \\\\FOAF/LOAF  and bloom filters have a lot of interesting properties for social\\network and whitelist distribution.\\\\I think we can go one level higher though and include GPG/OpenPGP key\\fingerpring distribution in the FOAF file for simple web-of-trust based key\\distribution.\\\\What if we used FOAF and included the PGP key fingerprint(s) for identities?\\This could mean a lot.  You include the PGP key fingerprints within the FOAF\\file of your direct friends and then include a bloom filter of the PGP key\\fingerprints of your entire whitelist (the source FOAF file would of course need\\to be encrypted ).\\\\Your whitelist would be populated from the social network as your client\\discovered new identit ...\\\\\n",
      "ORIGINAL: E-mail scam targets police chief Wiltshire Police warns about \"phishing\" after its fraud squad chief was targeted.\n",
      "PERTURBED: E-mail scam targets police chief Wiltshire Police warns about \"phishing\" after its fraud squad chief was targeted.\n",
      "ORIGINAL: Card fraud unit nets 36,000 cards In its first two years, the UK's dedicated card fraud unit, has recovered 36,000 stolen cards and 171 arrests - and estimates it saved 65m.\n",
      "PERTURBED: Card fraud unit nets 36,000 cards In its first two years, the UK's dedicated card fraud unit, has recovered 36,000 stolen cards and 171 arrests - and estimates it saved 65m.\n",
      "\n",
      "Perturbation level: 0.6\n",
      "ORIGINAL: Fears for T N pension after talks Unions representing workers at Turner   Newall say they are 'disappointed' after talks with stricken parent firm Federal Mogul.\n",
      "PERTURBED: FeZrs for T N penwsion after tlaks Uions repreXsenting worLkers at urner   Newll asy they are 'disapopinted' after htalks with strFcken harent firfm wFederal MoguQ.\n",
      "ORIGINAL: The Race is On: Second Private Team Sets Launch Date for Human Spaceflight (SPACE.com) SPACE.com - TORONTO, Canada -- A second\\team of rocketeers competing for the  #36;10 million Ansari X Prize, a contest for\\privately funded suborbital space flight, has officially announced the first\\launch date for its manned rocket.\n",
      "PERTURBED: Te vRace is Oe: Scond Privlate eTam FSets Lamnch Daet for Huma SpacefliRht (kSPACE.ocm) SIPACE.coC - ORONTO, Canda -- A secnod\\Jteam of rocketees competoing for the  #3A6;01 mililon Ansai X Priez, a contset for\\pRrivately funde suboribtal spacG fligh, has officialCly anSnounced the frist\\laUnch dae for its mannevd rockGet.\n",
      "ORIGINAL: Ky. Company Wins Grant to Study Peptides (AP) AP - A company founded by a chemistry researcher at the University of Louisville won a grant to develop a method of producing better peptides, which are short chains of amino acids, the building blocks of proteins.\n",
      "PERTURBED: Ky. Company Wins Grant to Study Peptides (AP) AP - A company founded by a chemistry researcher at the University of Louisville won a grant to develop a method of producing better peptides, which are short chains of amino acids, the building blocks of proteins.\n",
      "ORIGINAL: Prediction Unit Helps Forecast Wildfires (AP) AP - It's barely dawn when Mike Fitzpatrick starts his shift with a blur of colorful maps, figures and endless charts, but already he knows what the day will bring. Lightning will strike in places he expects. Winds will pick up, moist places will dry and flames will roar.\n",
      "PERTURBED: Prediction Unit Helps Forecast Wildfires (AP) AP - It's barely dawn when Mike Fitzpatrick starts his shift with a blur of colorful maps, figures and endless charts, but already he knows what the day will bring. Lightning will strike in places he expects. Winds will pick up, moist places will dry and flames will roar.\n",
      "ORIGINAL: Calif. Aims to Limit Farm-Related Smog (AP) AP - Southern California's smog-fighting agency went after emissions of the bovine variety Friday, adopting the nation's first rules to reduce air pollution from dairy cow manure.\n",
      "PERTURBED: Calfi. Aimp to Lmit Farm-Relatd SmVog (P) pP - SouQthern Claifornia's smog-fightnig agmncy Kent after emisisons of the bPvine variefy FrPday, adoping the ntaion's firts ruleX to reduec aTr pollutNon from dairA coNw manBre.\n",
      "ORIGINAL: Open Letter Against British Copyright Indoctrination in Schools The British Department for Education and Skills (DfES) recently launched a \"Music Manifesto\" campaign, with the ostensible intention of educating the next generation of British musicians. Unfortunately, they also teamed up with the music industry (EMI, and various artists) to make this popular. EMI has apparently negotiated their end well, so that children in our schools will now be indoctrinated about the illegality of downloading music.The ignorance and audacity of this got to me a little, so I wrote an open letter to the DfES about it. Unfortunately, it's pedantic, as I suppose you have to be when writing to goverment representatives. But I hope you find it useful, and perhaps feel inspired to do something similar, if or when the same thing has happened in your area.\n",
      "PERTURBED: Opn Letber Aainst BriLish opyright Indoctrmnation in Schoos Te BrBitish DepartKent for Eduqcation and kSills (fDfES) relcently launchde a \"EMusic Manfiesto\" campaZgn, with the ostqnsible inteniton of educatign the nexgt eneration of Birtish musicins. Unfbortunately, they alsEo temaed up with the musc ipndustry (zEMI, and variosu artisst) to aake this populdar. EMSI has apparenlty negoiated their edn welMl, so that cildren in our schoHols will now be indoctrinhted about the illegalit of downloadin msic.Che ignorznce and udacity of this gto to me a gittle, so I wrotMe an mopen letEter to the DfSS about it. znfortunately, it's pedantiw, as I supose you have to be when writiHg to govherment reprDesentatives. Bbut I hoe you fin it usfeul, and peraps fel inspried to do sOmething simQilar, if or when the same hting has haPpened in your arae.\n",
      "ORIGINAL: Loosing the War on Terrorism \\\\\"Sven Jaschan, self-confessed author of the Netsky and Sasser viruses, is\\responsible for 70 percent of virus infections in 2004, according to a six-month\\virus roundup published Wednesday by antivirus company Sophos.\"\\\\\"The 18-year-old Jaschan was taken into custody in Germany in May by police who\\said he had admitted programming both the Netsky and Sasser worms, something\\experts at Microsoft confirmed. (A Microsoft antivirus reward program led to the\\teenager's arrest.) During the five months preceding Jaschan's capture, there\\were at least 25 variants of Netsky and one of the port-scanning network worm\\Sasser.\"\\\\\"Graham Cluley, senior technology consultant at Sophos, said it was staggeri ...\\\\\n",
      "PERTURBED: Loosig the WUar on Terorrism \\\\\"Scen Jaschna, elf-confessed authro of the Nitsky and SasGser viruseWs, is\\repsonsible for 07 precent of irus infectiosn in Q2004, accordicng to a six-manth\\vrus ronudup pGblished Wtednesday by antivrius cmopany Sophso.\"\\\\\"Te 18-lear-old Jdschan was taen into cuwtody in Gremany in MaS by poliwe who\\naid he had aJmitted programping both the Nketsky and SasFer worWs, somethinog\\exprets at MiXrosoft cocfirmed. (A MicrosDft antivirZus rewlrd proram lde to the\\teenagerDs arerst.) Durign the fiv mnths precedvng Jaschas's cpature, there\\were at yleast 52 varaints of NetsMky and oe of the poOt-scanning Hnetwork woIm\\SasseLr.\"\\\\\"Graam CluEey, esnior teihnology conWultant at Sophs, asid it was stggeri ...\\\\\n",
      "ORIGINAL: FOAFKey: FOAF, PGP, Key Distribution, and Bloom Filters \\\\FOAF/LOAF  and bloom filters have a lot of interesting properties for social\\network and whitelist distribution.\\\\I think we can go one level higher though and include GPG/OpenPGP key\\fingerpring distribution in the FOAF file for simple web-of-trust based key\\distribution.\\\\What if we used FOAF and included the PGP key fingerprint(s) for identities?\\This could mean a lot.  You include the PGP key fingerprints within the FOAF\\file of your direct friends and then include a bloom filter of the PGP key\\fingerprints of your entire whitelist (the source FOAF file would of course need\\to be encrypted ).\\\\Your whitelist would be populated from the social network as your client\\discovered new identit ...\\\\\n",
      "PERTURBED: FOAFKey: FOAF, PGP, Key Distribution, and Bloom Filters \\\\FOAF/LOAF  and bloom filters have a lot of interesting properties for social\\network and whitelist distribution.\\\\I think we can go one level higher though and include GPG/OpenPGP key\\fingerpring distribution in the FOAF file for simple web-of-trust based key\\distribution.\\\\What if we used FOAF and included the PGP key fingerprint(s) for identities?\\This could mean a lot.  You include the PGP key fingerprints within the FOAF\\file of your direct friends and then include a bloom filter of the PGP key\\fingerprints of your entire whitelist (the source FOAF file would of course need\\to be encrypted ).\\\\Your whitelist would be populated from the social network as your client\\discovered new identit ...\\\\\n",
      "ORIGINAL: E-mail scam targets police chief Wiltshire Police warns about \"phishing\" after its fraud squad chief was targeted.\n",
      "PERTURBED: E-mail scam targets police chief Wiltshire Police warns about \"phishing\" after its fraud squad chief was targeted.\n",
      "ORIGINAL: Card fraud unit nets 36,000 cards In its first two years, the UK's dedicated card fraud unit, has recovered 36,000 stolen cards and 171 arrests - and estimates it saved 65m.\n",
      "PERTURBED: CaAd frdaud unt net 3W,0n0 caUrds WIn its Mfirst tCo yeprs, the UKys dedictaed ard rfaud uni, has recoverVd 3i6,E000 stole card and 1I1 arests - and esitmates it savd 6m5.\n",
      "\n",
      "Perturbation level: 1.0\n",
      "ORIGINAL: Fears for T N pension after talks Unions representing workers at Turner   Newall say they are 'disappointed' after talks with stricken parent firm Federal Mogul.\n",
      "PERTURBED: Feras for T N Qpension after taElks UniBons represetning wHrkers at Turne   NeEwall sa they are 'disappointe'd after ualks with strXicken prent iirm Federl hMogul.\n",
      "ORIGINAL: The Race is On: Second Private Team Sets Launch Date for Human Spaceflight (SPACE.com) SPACE.com - TORONTO, Canada -- A second\\team of rocketeers competing for the  #36;10 million Ansari X Prize, a contest for\\privately funded suborbital space flight, has officially announced the first\\launch date for its manned rocket.\n",
      "PERTURBED: Rhe aRce is Wn: eScond PrivatSe Aeam Sers Lunch Dyte for HVman Spaeflight (SPAPCE.cmo) SAPCE.cm - uORONTO, wanada -- A seond\\tea of rocekteers competin for the  #3W;s10 mllion Ansri X PGrize, a contmst for\\privatel fundud suborbitla spac filght, has oFficially anounced the fiirst\\laPunch dlte for its mannewd rozket.\n",
      "ORIGINAL: Ky. Company Wins Grant to Study Peptides (AP) AP - A company founded by a chemistry researcher at the University of Louisville won a grant to develop a method of producing better peptides, which are short chains of amino acids, the building blocks of proteins.\n",
      "PERTURBED: K. Coempany WiBns Grazt to tSudy PeOptides (PA) AqP - A comany fuonded by a chemisgry esearcher at the Universrty of LouFsville won a grankt to deevlop a methdo of prodcing beter pepties, which are shobt cains of amiKno caids, the uilding bolcks of protBeins.\n",
      "ORIGINAL: Prediction Unit Helps Forecast Wildfires (AP) AP - It's barely dawn when Mike Fitzpatrick starts his shift with a blur of colorful maps, figures and endless charts, but already he knows what the day will bring. Lightning will strike in places he expects. Winds will pick up, moist places will dry and flames will roar.\n",
      "PERTURBED: Prdiction UEit Hels Forceast pildfires (A) PA - It' jarely dMwn when MikKe itzpatrick stars his shVift with a bClur of coorful Omaps, igures and endleks charst, but alreadCy he kXows what the daYy will sbring. Ligtning will Vstrike in placeV he exqpects. WindRs will pck up, moits Ulaces will dbry and fames will roaN.\n",
      "ORIGINAL: Calif. Aims to Limit Farm-Related Smog (AP) AP - Southern California's smog-fighting agency went after emissions of the bovine variety Friday, adopting the nation's first rules to reduce air pollution from dairy cow manure.\n",
      "PERTURBED: aClif. AiHs to Limivt Frm-Related Stog (PA) PA - Sotuhern Californiz's smig-fighting ageecy wnet after emiksions of the bovnie vBriety FriPay, adoptijng the ation's frist ruls to reducHe aLir polluiton from Eairy coU manOure.\n",
      "ORIGINAL: Open Letter Against British Copyright Indoctrination in Schools The British Department for Education and Skills (DfES) recently launched a \"Music Manifesto\" campaign, with the ostensible intention of educating the next generation of British musicians. Unfortunately, they also teamed up with the music industry (EMI, and various artists) to make this popular. EMI has apparently negotiated their end well, so that children in our schools will now be indoctrinated about the illegality of downloading music.The ignorance and audacity of this got to me a little, so I wrote an open letter to the DfES about it. Unfortunately, it's pedantic, as I suppose you have to be when writing to goverment representatives. But I hope you find it useful, and perhaps feel inspired to do something similar, if or when the same thing has happened in your area.\n",
      "PERTURBED: Opn LGetter Agoainst BritiRh Copyriht Indoctrnnation in Shools bThe Brituish DepPartment for Educaion and Skill (fES) recentZy alunched a \"Muic Manifestw\" camJaign, with the Bstensible intentino of aeducating the nUxt generaiton of BCritish muGsicians. Unfrtunately, they alao temaed up with the musci indusXtry (KEMI, and vadious aqrtists) to amke this popuqar. MEI has appraently neYgotiated their en wQell, so that chidren in our schAools will now be indoctrBnated about the illegalyty of Wownloading usic.Thde ignorace and audacNty of this gdot to me a ilttle, so I wroe an rpen lette to the DfSE about it. wnfortunately, it's pedaStic, as I supposI you have to be when wriRing to govermetn rperesentatives. BHut I sope you finQd it Ouseful, and prhaps fbel nspired to do somethiSng ismilar, if or when the same tIhing has happenedd in your krea.\n",
      "ORIGINAL: Loosing the War on Terrorism \\\\\"Sven Jaschan, self-confessed author of the Netsky and Sasser viruses, is\\responsible for 70 percent of virus infections in 2004, according to a six-month\\virus roundup published Wednesday by antivirus company Sophos.\"\\\\\"The 18-year-old Jaschan was taken into custody in Germany in May by police who\\said he had admitted programming both the Netsky and Sasser worms, something\\experts at Microsoft confirmed. (A Microsoft antivirus reward program led to the\\teenager's arrest.) During the five months preceding Jaschan's capture, there\\were at least 25 variants of Netsky and one of the port-scanning network worm\\Sasser.\"\\\\\"Graham Cluley, senior technology consultant at Sophos, said it was staggeri ...\\\\\n",
      "PERTURBED: LoosiKng the Wrar on Terrorsm \\\\\"gven JaschEan, self-confessde atuhor of the Ntesky and Sassqr vGruses, is\\resposnible for T70 perecnt of vius inXfections in 204, accordinR to a six-mownth\\virs roundp publishePd Wdednesday by antiirus compnay Sophso.\"\\\\\"Teh 18-year-ol Jaschna was takDen into custvody in Germayn in aMy by poliec who\\sai he had Fdmitted programmiqg both the Ntesky and Sasse womrs, sometLing\\expers at icrosoft cnfirmed. (A Microsfot antivirsu rewrad proTram leD to the\\Xeenager's arres.) DuriKg the efive monhts fpreceding Jascha'ns catpure, there\\were at last 2P Bariants of Nfetsky and oen of the portscanning nework Zorm\\Saser.\"\\\\\"GrUaham CluleA, seniPr techology cosnultant at Smophos, sad it was saggeri ...\\\\\n",
      "ORIGINAL: FOAFKey: FOAF, PGP, Key Distribution, and Bloom Filters \\\\FOAF/LOAF  and bloom filters have a lot of interesting properties for social\\network and whitelist distribution.\\\\I think we can go one level higher though and include GPG/OpenPGP key\\fingerpring distribution in the FOAF file for simple web-of-trust based key\\distribution.\\\\What if we used FOAF and included the PGP key fingerprint(s) for identities?\\This could mean a lot.  You include the PGP key fingerprints within the FOAF\\file of your direct friends and then include a bloom filter of the PGP key\\fingerprints of your entire whitelist (the source FOAF file would of course need\\to be encrypted ).\\\\Your whitelist would be populated from the social network as your client\\discovered new identit ...\\\\\n",
      "PERTURBED: FOAFEey: FOAXF, PP, eKy Disribution, and Bloofm Filthers \\\\FOAX/LAOF  and loom filtKrs have a ot of inetresting prjoperties for soical\\nework and whitelisn distribtion.\\\\I thikn we can og oVe evel higTer thouh and inclulde GPV/OpenPSGP ky\\fingerpfing distrbution in the FOAmF flie for smiple web-of-ctrust basd kye\\Wdistribution.\\\\WLat if we sued FAF and injcluded the PwP eky ingerprint(s) for identitiefs?\\TSis oculd maen a lo.  oYu inclde the PG ey fingerpriSts withig the OFAF\\fule of your drect friendj and then inWclude a sloom gfilter of the PRP Hey\\fingerpritns of your entrie whtielist (the sourZce OFAF vfile woudl of coursve nede\\to be enrcypted ).\\\\Zour woitelist woulW be ppulated from the sLcial ntwork as your cliWnt\\discovere nwe Odentit ...\\\\\n",
      "ORIGINAL: E-mail scam targets police chief Wiltshire Police warns about \"phishing\" after its fraud squad chief was targeted.\n",
      "PERTURBED: E-mali scaS targess golice chiBef Wilthsire Pvlice darns about \"phisVhing\" after its frauSd squjad cAief was targetd.\n",
      "ORIGINAL: Card fraud unit nets 36,000 cards In its first two years, the UK's dedicated card fraud unit, has recovered 36,000 stolen cards and 171 arrests - and estimates it saved 65m.\n",
      "PERTURBED: vard fraMud unti netN 3,n000 cdards pn its fisrt tw yqars, the UcK's dedYcated cadr fraDd uJnit, has recovreed U6,P000 sqolen yards and u71 arreDts - and estiates it saSed 65.\n",
      "*** Metrics Summary ***\n",
      "robustness_score:  0.0000\n",
      "effective_robustness:  0.0000\n",
      "accuracy:  0.9000\n",
      "*** Results Per Perturbation Level\n"
     ]
    },
    {
     "data": {
      "application/vnd.microsoft.datawrangler.viewer.v0+json": {
       "columns": [
        {
         "name": "index",
         "rawType": "int64",
         "type": "integer"
        },
        {
         "name": "perturbation level",
         "rawType": "float64",
         "type": "float"
        },
        {
         "name": "accuracy",
         "rawType": "float64",
         "type": "float"
        }
       ],
       "conversionMethod": "pd.DataFrame",
       "ref": "c0f77dfb-8758-4e70-91e9-1a53e29507ac",
       "rows": [
        [
         "0",
         "0.0",
         "0.9"
        ],
        [
         "1",
         "0.3",
         "0.7"
        ],
        [
         "2",
         "0.6",
         "0.7"
        ],
        [
         "3",
         "1.0",
         "0.4"
        ]
       ],
       "shape": {
        "columns": 2,
        "rows": 4
       }
      },
      "text/html": [
       "<div>\n",
       "<style scoped>\n",
       "    .dataframe tbody tr th:only-of-type {\n",
       "        vertical-align: middle;\n",
       "    }\n",
       "\n",
       "    .dataframe tbody tr th {\n",
       "        vertical-align: top;\n",
       "    }\n",
       "\n",
       "    .dataframe thead th {\n",
       "        text-align: right;\n",
       "    }\n",
       "</style>\n",
       "<table border=\"1\" class=\"dataframe\">\n",
       "  <thead>\n",
       "    <tr style=\"text-align: right;\">\n",
       "      <th></th>\n",
       "      <th>perturbation level</th>\n",
       "      <th>accuracy</th>\n",
       "    </tr>\n",
       "  </thead>\n",
       "  <tbody>\n",
       "    <tr>\n",
       "      <th>0</th>\n",
       "      <td>0.0</td>\n",
       "      <td>0.9</td>\n",
       "    </tr>\n",
       "    <tr>\n",
       "      <th>1</th>\n",
       "      <td>0.3</td>\n",
       "      <td>0.7</td>\n",
       "    </tr>\n",
       "    <tr>\n",
       "      <th>2</th>\n",
       "      <td>0.6</td>\n",
       "      <td>0.7</td>\n",
       "    </tr>\n",
       "    <tr>\n",
       "      <th>3</th>\n",
       "      <td>1.0</td>\n",
       "      <td>0.4</td>\n",
       "    </tr>\n",
       "  </tbody>\n",
       "</table>\n",
       "</div>"
      ],
      "text/plain": [
       "   perturbation level  accuracy\n",
       "0                 0.0       0.9\n",
       "1                 0.3       0.7\n",
       "2                 0.6       0.7\n",
       "3                 1.0       0.4"
      ]
     },
     "metadata": {},
     "output_type": "display_data"
    }
   ],
   "source": [
    "from evaluator import evaluate_robustness\n",
    "\n",
    "# Testing of evaluator module\n",
    "X_sample = X_test[:10]\n",
    "y_sample = y_test[:10]\n",
    "\n",
    "perturbation_levels = [0.0, 0.3, 0.6, 1.0]\n",
    "metrics = [\"base_accuracy\", \"robustness_score\", \"effective_robustness\"]\n",
    "file_path = Path(\"perturbed_data/perturbed_data_\")\n",
    "\n",
    "results, metrics_summary = evaluate_robustness(\n",
    "    lg_trained_model,\n",
    "    vectorizer,\n",
    "    X_sample, #X_test,\n",
    "    y_sample, #y_test,\n",
    "    perturbation_levels,\n",
    "    metrics,\n",
    "    file_path\n",
    ")\n",
    "\n",
    "print(\"*** Metrics Summary ***\")\n",
    "for metric, value in metrics_summary.items():\n",
    "    print(f\"{metric}: {value: .4f}\")\n",
    "\n",
    "results_df = pd.DataFrame(results)\n",
    "print(\"*** Results Per Perturbation Level\")\n",
    "display(results_df)"
   ]
  }
 ],
 "metadata": {
  "kernelspec": {
   "display_name": "Python 3",
   "language": "python",
   "name": "python3"
  },
  "language_info": {
   "codemirror_mode": {
    "name": "ipython",
    "version": 3
   },
   "file_extension": ".py",
   "mimetype": "text/x-python",
   "name": "python",
   "nbconvert_exporter": "python",
   "pygments_lexer": "ipython3",
   "version": "3.10.16"
  }
 },
 "nbformat": 4,
 "nbformat_minor": 2
}
