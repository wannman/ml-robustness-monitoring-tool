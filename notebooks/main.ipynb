{
 "cells": [
  {
   "cell_type": "code",
   "execution_count": 1,
   "metadata": {},
   "outputs": [],
   "source": [
    "import sys\n",
    "from pathlib import Path\n",
    "src_path = Path.cwd().parent / 'src'\n",
    "sys.path.append(str(src_path))\n",
    "\n",
    "import numpy as np\n",
    "import pandas as pd\n"
   ]
  },
  {
   "cell_type": "code",
   "execution_count": 2,
   "metadata": {},
   "outputs": [],
   "source": [
    "from data_loader import load_data\n",
    "\n",
    "# Set up data paths\n",
    "data_path = Path.cwd().parent / \"data\" / \"ag_news\"\n",
    "train_path = data_path / \"train.csv\"\n",
    "test_path = data_path / \"test.csv\"\n",
    "\n",
    "# Load training data\n",
    "df_train = load_data(train_path)\n",
    "X_title_train = df_train[\"Title\"].values\n",
    "X_desc_train = df_train[\"Description\"].values\n",
    "y_train = df_train[\"Class Index\"].values\n",
    "\n",
    "# Load test data\n",
    "df_test = load_data(test_path)\n",
    "X_title_test = df_test[\"Title\"].values\n",
    "X_desc_test = df_test[\"Description\"].values\n",
    "y_test = df_test[\"Class Index\"].values\n",
    "\n",
    "# Show training data\n",
    "# df_train.head()\n",
    "\n",
    "# Show test data\n",
    "# df_test.head()"
   ]
  },
  {
   "cell_type": "code",
   "execution_count": 3,
   "metadata": {},
   "outputs": [],
   "source": [
    "from vectorizer import vectorize_data_fit\n",
    "from sklearn.feature_extraction.text import TfidfVectorizer\n",
    "\n",
    "# Vectorize data\n",
    "title_vectorizer = TfidfVectorizer()\n",
    "desc_vectorizer = TfidfVectorizer()\n",
    "\n",
    "X_train_combined_vect = vectorize_data_fit(title_vectorizer, desc_vectorizer, X_title_train, X_desc_train)"
   ]
  },
  {
   "cell_type": "code",
   "execution_count": 7,
   "metadata": {},
   "outputs": [],
   "source": [
    "from model_trainer import train_model\n",
    "from sklearn.linear_model import LogisticRegression\n",
    "from sklearn.naive_bayes import MultinomialNB\n",
    "from sklearn.ensemble import RandomForestClassifier\n",
    "\n",
    "# Train Logistic Regression Model\n",
    "lg_model = LogisticRegression()\n",
    "#lg_trained_model = train_model(lg_model, X_train_combined_vect, y_train)\n",
    "\n",
    "# Train Naive Bayes Model\n",
    "nb_model = MultinomialNB()\n",
    "nb_trained_model = train_model(nb_model, X_train_combined_vect, y_train)\n",
    "\n",
    "# Train Random Forest Model\n",
    "rf_model = RandomForestClassifier()\n",
    "#rf_trained_model = train_model(rf_model, X_train_combined_vect, y_train)"
   ]
  },
  {
   "cell_type": "code",
   "execution_count": 6,
   "metadata": {},
   "outputs": [
    {
     "name": "stderr",
     "output_type": "stream",
     "text": [
      "[nltk_data] Downloading package omw-1.4 to\n",
      "[nltk_data]     C:\\Users\\tenna\\AppData\\Roaming\\nltk_data...\n",
      "[nltk_data]   Package omw-1.4 is already up-to-date!\n"
     ]
    }
   ],
   "source": [
    "from perturbation import apply_perturbation\n",
    "\n",
    "#Testing of perturbation module\n",
    "\n",
    "title_data = X_title_test[:5]\n",
    "desc_data = X_desc_test[:5]\n",
    "level = 0.6\n",
    "\n",
    "perturbed_data = apply_perturbation(\n",
    "    [title_data, desc_data],\n",
    "    level,\n",
    "    save_path=f\"perturbed_data/perturbed_data_{level:.2f}.pkl\"\n",
    ")\n",
    "\n"
   ]
  },
  {
   "cell_type": "code",
   "execution_count": 8,
   "metadata": {},
   "outputs": [
    {
     "name": "stdout",
     "output_type": "stream",
     "text": [
      "\n",
      "Perturbation level: 0.6\n",
      "Titles:\n",
      "ORIGINAL: Fears for T N pension after talks\n",
      "PERTURBED: T N pension \n",
      "ORIGINAL: The Race is On: Second Private Team Sets Launch Date for Human Spaceflight (SPACE.com)\n",
      "PERTURBED: The Race is On: Second Private Team Sets Launch Date for Human Spaceflight (SPACE.com)\n",
      "ORIGINAL: Ky. Company Wins Grant to Study Peptides (AP)\n",
      "PERTURBED: Ky. companionship advance subsidization to Study peptide (AP)\n",
      "ORIGINAL: Prediction Unit Helps Forecast Wildfires (AP)\n",
      "PERTURBED: Prediction Unit Helps Forecast Wildfires (AP)\n",
      "ORIGINAL: Calif. Aims to Limit Farm-Related Smog (AP)\n",
      "PERTURBED: Smog. Aims Farm-Related Limit Calif to (AP)\n",
      "Descriptions:\n",
      "ORIGINAL: Unions representing workers at Turner   Newall say they are 'disappointed' after talks with stricken parent firm Federal Mogul.\n",
      "PERTURBED: Unions representing at   say ' after stricken parent firm.\n",
      "ORIGINAL: SPACE.com - TORONTO, Canada -- A second\\team of rocketeers competing for the  #36;10 million Ansari X Prize, a contest for\\privately funded suborbital space flight, has officially announced the first\\launch date for its manned rocket.\n",
      "PERTURBED: SPACE.com - TORONTO, Canada -- A second\\team of rocketeers competing for the  #36;10 million Ansari X Prize, a contest for\\privately funded suborbital space flight, has officially announced the first\\launch date for its manned rocket.\n",
      "ORIGINAL: AP - A company founded by a chemistry researcher at the University of Louisville won a grant to develop a method of producing better peptides, which are short chains of amino acids, the building blocks of proteins.\n",
      "PERTURBED: AP - A chains founded University won of of acids method by chemistry Louisville a the grant a develop to a researcher producing better peptides, which proteins short company of amino at, building the blocks of are.\n",
      "ORIGINAL: AP - It's barely dawn when Mike Fitzpatrick starts his shift with a blur of colorful maps, figures and endless charts, but already he knows what the day will bring. Lightning will strike in places he expects. Winds will pick up, moist places will dry and flames will roar.\n",
      "PERTURBED: AP - It's barely dawn when Mike Fitzpatrick starts his shift with a blur of colorful maps, figures and endless charts, but already he knows what the day will bring. Lightning will strike in places he expects. Winds will pick up, moist places will dry and flames will roar.\n",
      "ORIGINAL: AP - Southern California's smog-fighting agency went after emissions of the bovine variety Friday, adopting the nation's first rules to reduce air pollution from dairy cow manure.\n",
      "PERTURBED: AP - Southern California's smog-fighting rule agency went after emissions predominate of the bovine variety Friday, adopting the regulation nation's first rules prevail to muck reduce afterwards air endure pollution send from dairy cow manure.\n",
      "*** Metrics Summary ***\n",
      "robustness_score:  0.0000\n",
      "effective_robustness:  0.0000\n",
      "accuracy:  0.8000\n",
      "*** Results Per Perturbation Level\n"
     ]
    },
    {
     "data": {
      "text/html": [
       "<div>\n",
       "<style scoped>\n",
       "    .dataframe tbody tr th:only-of-type {\n",
       "        vertical-align: middle;\n",
       "    }\n",
       "\n",
       "    .dataframe tbody tr th {\n",
       "        vertical-align: top;\n",
       "    }\n",
       "\n",
       "    .dataframe thead th {\n",
       "        text-align: right;\n",
       "    }\n",
       "</style>\n",
       "<table border=\"1\" class=\"dataframe\">\n",
       "  <thead>\n",
       "    <tr style=\"text-align: right;\">\n",
       "      <th></th>\n",
       "      <th>perturbation level</th>\n",
       "      <th>accuracy</th>\n",
       "    </tr>\n",
       "  </thead>\n",
       "  <tbody>\n",
       "    <tr>\n",
       "      <th>0</th>\n",
       "      <td>0.6</td>\n",
       "      <td>0.8</td>\n",
       "    </tr>\n",
       "  </tbody>\n",
       "</table>\n",
       "</div>"
      ],
      "text/plain": [
       "   perturbation level  accuracy\n",
       "0                 0.6       0.8"
      ]
     },
     "metadata": {},
     "output_type": "display_data"
    }
   ],
   "source": [
    "from evaluator import evaluate_robustness\n",
    "\n",
    "X_title_sample = X_title_test[:5]\n",
    "X_desc_sample = X_desc_test[:5]\n",
    "y_sample = y_test[:5]\n",
    "\n",
    "X_sample = [X_title_sample, X_desc_sample]\n",
    "# perturbation_levels = np.linspace(0, 0.6, 4)\n",
    "perturbation_levels = [0.6]\n",
    "metrics = [\"base_accuracy\", \"robustness_score\", \"effective_robustness\"]\n",
    "vectorizers = [title_vectorizer, desc_vectorizer]\n",
    "\n",
    "results, metrics_summary = evaluate_robustness(\n",
    "    nb_trained_model,\n",
    "    vectorizers,\n",
    "    X_sample, #X_test,\n",
    "    y_sample, #y_test,\n",
    "    perturbation_levels,\n",
    "    metrics\n",
    ")\n",
    "\n",
    "print(\"*** Metrics Summary ***\")\n",
    "for metric, value in metrics_summary.items():\n",
    "    print(f\"{metric}: {value: .4f}\")\n",
    "\n",
    "results_df = pd.DataFrame(results)\n",
    "print(\"*** Results Per Perturbation Level\")\n",
    "display(results_df)"
   ]
  }
 ],
 "metadata": {
  "kernelspec": {
   "display_name": "Python 3",
   "language": "python",
   "name": "python3"
  },
  "language_info": {
   "codemirror_mode": {
    "name": "ipython",
    "version": 3
   },
   "file_extension": ".py",
   "mimetype": "text/x-python",
   "name": "python",
   "nbconvert_exporter": "python",
   "pygments_lexer": "ipython3",
   "version": "3.10.1"
  }
 },
 "nbformat": 4,
 "nbformat_minor": 2
}
